{
 "cells": [
  {
   "cell_type": "code",
   "execution_count": 1,
   "metadata": {},
   "outputs": [
    {
     "data": {
      "text/plain": [
       "SyncCursorPage[FileObject](data=[], object='list', has_more=False, first_id=None, last_id=None)"
      ]
     },
     "execution_count": 1,
     "metadata": {},
     "output_type": "execute_result"
    }
   ],
   "source": [
    "from openai import OpenAI\n",
    "\n",
    "client = OpenAI(\n",
    "    \n",
    ")\n",
    "\n",
    "client.files.list()"
   ]
  },
  {
   "cell_type": "code",
   "execution_count": 3,
   "metadata": {},
   "outputs": [
    {
     "data": {
      "text/plain": [
       "FileObject(id='file-2zXFvAmFXCHnjMMjFfnaiZ', bytes=4544, created_at=1734200886, filename='content.txt', object='file', purpose='assistants', status='processed', status_details=None)"
      ]
     },
     "execution_count": 3,
     "metadata": {},
     "output_type": "execute_result"
    }
   ],
   "source": [
    "client.files.create(\n",
    "    file=open(\"data/www_gov_uk/vehicle-tax/content.txt\", \"rb\"), purpose=\"assistants\"\n",
    ")"
   ]
  },
  {
   "cell_type": "code",
   "execution_count": 6,
   "metadata": {},
   "outputs": [
    {
     "data": {
      "text/plain": [
       "FileObject(id='file-X3iV4y8L7jQM5z7UpjSadx', bytes=7145, created_at=1734201482, filename='content.txt', object='file', purpose='assistants', status='processed', status_details=None)"
      ]
     },
     "execution_count": 6,
     "metadata": {},
     "output_type": "execute_result"
    }
   ],
   "source": [
    "client.files.create(\n",
    "    file=open(\"data/www_gov_uk/tax-free-childcare/content.txt\", \"rb\"), purpose=\"assistants\"\n",
    ")"
   ]
  },
  {
   "cell_type": "code",
   "execution_count": 4,
   "metadata": {},
   "outputs": [
    {
     "data": {
      "text/plain": [
       "SyncCursorPage[FileObject](data=[FileObject(id='file-2zXFvAmFXCHnjMMjFfnaiZ', bytes=4544, created_at=1734200886, filename='content.txt', object='file', purpose='assistants', status='processed', status_details=None)], object='list', has_more=False, first_id='file-2zXFvAmFXCHnjMMjFfnaiZ', last_id='file-2zXFvAmFXCHnjMMjFfnaiZ')"
      ]
     },
     "execution_count": 4,
     "metadata": {},
     "output_type": "execute_result"
    }
   ],
   "source": [
    "client.files.list()"
   ]
  },
  {
   "cell_type": "code",
   "execution_count": 8,
   "metadata": {},
   "outputs": [],
   "source": [
    "vector_store_id = \"vs_q86xekO1S5ePAoRtk4nkaunk\""
   ]
  },
  {
   "cell_type": "code",
   "execution_count": 5,
   "metadata": {},
   "outputs": [
    {
     "name": "stdout",
     "output_type": "stream",
     "text": [
      "VectorStoreFileBatch(id='vsfb_55d5906cca984a2fad2e23b32098cd27', created_at=1734201196, file_counts=FileCounts(cancelled=0, completed=0, failed=0, in_progress=1, total=1), object='vector_store.file_batch', status='in_progress', vector_store_id='vs_q86xekO1S5ePAoRtk4nkaunk')\n"
     ]
    }
   ],
   "source": [
    "# FileObject(id='file-2zXFvAmFXCHnjMMjFfnaiZ', bytes=4544, created_at=1734200886, filename='content.txt', object='file', purpose='assistants', status='processed', status_details=None)\n",
    "\n",
    "vector_store_file_batch = client.beta.vector_stores.file_batches.create(\n",
    "  vector_store_id=vector_store_id,\n",
    "  file_ids=[\"file-2zXFvAmFXCHnjMMjFfnaiZ\"]\n",
    ")\n",
    "print(vector_store_file_batch)"
   ]
  },
  {
   "cell_type": "code",
   "execution_count": 7,
   "metadata": {},
   "outputs": [
    {
     "name": "stdout",
     "output_type": "stream",
     "text": [
      "VectorStoreFileBatch(id='vsfb_01d80a64e88145cd84dd85a19fa5a1f4', created_at=1734201512, file_counts=FileCounts(cancelled=0, completed=0, failed=0, in_progress=1, total=1), object='vector_store.file_batch', status='in_progress', vector_store_id='vs_q86xekO1S5ePAoRtk4nkaunk')\n"
     ]
    }
   ],
   "source": [
    "\n",
    "vector_store_file_batch = client.beta.vector_stores.file_batches.create(\n",
    "  vector_store_id=\"vs_q86xekO1S5ePAoRtk4nkaunk\",\n",
    "  file_ids=[\"file-X3iV4y8L7jQM5z7UpjSadx\"]\n",
    ")\n",
    "print(vector_store_file_batch)"
   ]
  },
  {
   "cell_type": "markdown",
   "metadata": {},
   "source": [
    "Delete files"
   ]
  },
  {
   "cell_type": "code",
   "execution_count": 15,
   "metadata": {},
   "outputs": [],
   "source": [
    "\n",
    "vector_store_files = client.beta.vector_stores.files.list(\n",
    "  vector_store_id=vector_store_id\n",
    ")\n",
    "for file in vector_store_files.data:\n",
    "    print(file.id)\n"
   ]
  },
  {
   "cell_type": "code",
   "execution_count": 14,
   "metadata": {},
   "outputs": [
    {
     "name": "stdout",
     "output_type": "stream",
     "text": [
      "file-X3iV4y8L7jQM5z7UpjSadx\n",
      "file-2zXFvAmFXCHnjMMjFfnaiZ\n"
     ]
    }
   ],
   "source": [
    "for file in vector_store_files.data:\n",
    "    print(file.id)\n",
    "    client.beta.vector_stores.files.delete(\n",
    "        vector_store_id=vector_store_id,\n",
    "        file_id=file.id\n",
    "    )\n"
   ]
  }
 ],
 "metadata": {
  "kernelspec": {
   "display_name": "venv",
   "language": "python",
   "name": "python3"
  },
  "language_info": {
   "codemirror_mode": {
    "name": "ipython",
    "version": 3
   },
   "file_extension": ".py",
   "mimetype": "text/x-python",
   "name": "python",
   "nbconvert_exporter": "python",
   "pygments_lexer": "ipython3",
   "version": "3.13.0"
  }
 },
 "nbformat": 4,
 "nbformat_minor": 2
}
