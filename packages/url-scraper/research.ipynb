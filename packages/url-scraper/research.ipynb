{
 "cells": [
  {
   "cell_type": "code",
   "execution_count": 7,
   "metadata": {},
   "outputs": [],
   "source": [
    "from selenium import webdriver\n",
    "from bs4 import BeautifulSoup\n",
    "from urllib.parse import urljoin\n",
    "import csv\n",
    "\n",
    "def get_driver():\n",
    "    options = webdriver.ChromeOptions()\n",
    "    options.add_argument(\"--disable-blink-features\")\n",
    "    options.add_argument(\"--disable-blink-features=AutomationControlled\")\n",
    "\n",
    "    driver = webdriver.Remote(\n",
    "        command_executor=f'http://localhost:4444/wd/hub',\n",
    "        options=options\n",
    "    )\n",
    "\n",
    "    return driver"
   ]
  },
  {
   "cell_type": "code",
   "execution_count": 12,
   "metadata": {},
   "outputs": [],
   "source": [
    "driver = get_driver()\n",
    "\n",
    "base_url = \"https://www.gov.uk/\"\n",
    "\n",
    "driver.get(base_url)\n",
    "\n",
    "page_source = driver.page_source\n",
    "\n",
    "with open(\"page_content.html\", \"w\", encoding=\"utf-8\") as file:\n",
    "    file.write(page_source)\n",
    "\n",
    "driver.quit()"
   ]
  },
  {
   "cell_type": "code",
   "execution_count": null,
   "metadata": {},
   "outputs": [],
   "source": [
    "def get_section_headers(element):\n",
    "    \"\"\"Recursively collect text from parent section headers.\"\"\"\n",
    "    parent = element.find_parent()\n",
    "    if parent is None:\n",
    "        return []\n",
    "\n",
    "    # Check if the parent is a header tag\n",
    "    if parent.name in [\"h1\", \"h2\", \"h3\", \"h4\", \"h5\", \"h6\"]:\n",
    "        header_text = parent.get_text(strip=True)\n",
    "        return get_section_headers(parent) + [header_text]\n",
    "\n",
    "    # Check if the parent is a section tag\n",
    "    elif parent.name == \"section\":\n",
    "        # Find the first header tag within the section\n",
    "        header = parent.find([\"h1\", \"h2\", \"h3\", \"h4\", \"h5\", \"h6\"])\n",
    "        if header:\n",
    "            header_text = header.get_text(strip=True)\n",
    "            return get_section_headers(parent) + [header_text]\n",
    "\n",
    "    return get_section_headers(parent)\n",
    "\n",
    "\n",
    "soup = BeautifulSoup(page_source, \"html.parser\")\n",
    "\n",
    "links = soup.find_all(\"a\")\n",
    "\n",
    "for link in links:\n",
    "    url = link.get(\"href\")\n",
    "    text = link.get_text(strip=True)\n",
    "    full_url = urljoin(base_url, url)\n",
    "\n",
    "    # parent_text_tree = get_section_headers(link)\n",
    "    # print(f\"URL: {url}, Text: {text}, Parent Text Tree: {parent_text_tree}\")\n",
    "    print(f\"URL: {full_url}, Text: {text}\")"
   ]
  },
  {
   "cell_type": "code",
   "execution_count": null,
   "metadata": {},
   "outputs": [],
   "source": [
    "base_url = \"https://www.gov.uk/\"\n",
    "\n",
    "driver = get_driver()\n",
    "\n",
    "found_urls = set()\n",
    "urls_currently_in_queue_or_already_visited = set()\n",
    "\n",
    "\n",
    "def write_to_csv(url_text_pairs):\n",
    "    with open(\"links.csv\", \"w\", newline=\"\", encoding=\"utf-8\") as csvfile:\n",
    "        csvwriter = csv.writer(csvfile)\n",
    "        csvwriter.writerow([\"Text\", \"URL\"])\n",
    "\n",
    "        for url, text in url_text_pairs:\n",
    "            csvwriter.writerow([text, url])\n",
    "\n",
    "\n",
    "url_text_pairs = [(base_url, \"Home\")]\n",
    "counter = 0\n",
    "urls_queue = [base_url]\n",
    "while urls_queue:\n",
    "    counter += 1\n",
    "    print(f\"Scraping {counter} urls\")\n",
    "    # if counter > 10:\n",
    "    #     break\n",
    "\n",
    "    url = urls_queue.pop(0)\n",
    "\n",
    "    if not url.startswith(base_url):\n",
    "        continue\n",
    "\n",
    "    print(f\"Scraping {url}\")\n",
    "    try:\n",
    "        driver.get(url)\n",
    "        page_source = driver.page_source\n",
    "    except Exception as e:\n",
    "        print(f\"    Error scraping {url}: {e}\")\n",
    "        continue\n",
    "\n",
    "    soup = BeautifulSoup(page_source, \"html.parser\")\n",
    "\n",
    "    links = soup.find_all(\"a\")\n",
    "\n",
    "    for link in links:\n",
    "        url = link.get(\"href\")\n",
    "        text = \" \".join(link.stripped_strings)\n",
    "        full_url = urljoin(base_url, url)\n",
    "\n",
    "        if full_url not in urls_currently_in_queue_or_already_visited:\n",
    "            urls_queue.append(full_url)\n",
    "            urls_currently_in_queue_or_already_visited.add(full_url)\n",
    "\n",
    "            url_text_pairs.append((full_url, text))\n",
    "            if len(url_text_pairs) % 1000 == 0:\n",
    "                write_to_csv(url_text_pairs)\n",
    "\n",
    "    found_urls.add(full_url)\n",
    "\n",
    "print(found_urls)\n",
    "\n",
    "driver.quit()"
   ]
  },
  {
   "cell_type": "markdown",
   "metadata": {},
   "source": [
    "# Single page scraping"
   ]
  },
  {
   "cell_type": "code",
   "execution_count": 19,
   "metadata": {},
   "outputs": [],
   "source": [
    "driver = get_driver()\n",
    "\n",
    "base_url = \"https://www.gov.uk/guidance/register-an-unincorporated-association-for-corporation-tax\"\n",
    "\n",
    "driver.get(base_url)\n",
    "\n",
    "page_source = driver.page_source\n",
    "\n",
    "with open(\"page_content.html\", \"w\", encoding=\"utf-8\") as file:\n",
    "    file.write(page_source)\n",
    "\n",
    "driver.quit()"
   ]
  },
  {
   "cell_type": "code",
   "execution_count": 21,
   "metadata": {},
   "outputs": [
    {
     "name": "stdout",
     "output_type": "stream",
     "text": [
      "H1: Register an unincorporated association for Corporation Tax\n",
      "P: Find out how to register for Corporation Tax as a club, co-operative or other unincorporated association.\n",
      "H2: Contents\n",
      "H2: Who should register\n",
      "P: You should register for Corporation Tax when anunincorporated associationeither starts:\n",
      "H2: When to register\n",
      "P: You must register within 3 months from the date the unincorporated associationstarts tradingor receiving other income such as from investments.\n",
      "H2: What you’ll need\n",
      "P: To register as an unincorporated association for Corporation Tax, you will need the following information:\n",
      "P: organisation’s name\n",
      "P: any previous names your organisation has had\n",
      "P: the address any official mail should be sent to\n",
      "P: date the organisation was established\n",
      "P: date the organisation became liable to Corporation Tax\n",
      "P: date the organisation intends to prepare its first accounts\n",
      "P: your first and last names\n",
      "P: your relationship to the organisation or role in the organisation\n",
      "P: your telephone number and email address\n",
      "H2: How to register\n",
      "P: You can fill the form in online. You will then need to print the form and send it to us using the address shown on the form.\n",
      "P: Register now\n",
      "H3: Other ways to register\n",
      "P: If you’re unable to register online, you can write a letter to HMRC instead.\n",
      "P: You’ll need to create a 10-digit dummy Unique Taxpayer Reference (UTR) and should include this at the top of your letter.\n",
      "P: To create a dummyUTR, use the year and month of the date you are sending your letter followed by six 5s — YYMM555555. For example, if you are sending your letter in July 2024, the dummyUTRwould be 2407555555.\n",
      "P: You will also need to include all the information from the ‘What you’ll need’ section in your letter.\n",
      "P: Send your letter to:\n",
      "P: Corporation Tax ServicesHM Revenue and CustomsBX9 1AXUnited Kingdom\n",
      "H2: After you’ve registered\n",
      "P: The dummyUTRshould only be used to chase the progress of your registration.\n",
      "P: HMRC will process your registration and send your Corporation TaxUTRby post.\n",
      "H2: Updates to this page\n",
      "H2: Sign up for emails or print this page\n",
      "H2: Related content\n",
      "H2: Explore the topic\n"
     ]
    }
   ],
   "source": [
    "soup = BeautifulSoup(page_source, \"html.parser\")\n",
    "\n",
    "main_content = soup.find(\"main\", {\"role\": \"main\"})\n",
    "\n",
    "if main_content:\n",
    "    seen_texts = set()\n",
    "    for element in main_content.find_all(\n",
    "        [\"h1\", \"h2\", \"h3\", \"h4\", \"h5\", \"h6\", \"p\", \"section\"], recursive=True\n",
    "    ):\n",
    "        text = element.get_text(strip=True)\n",
    "        if text and text not in seen_texts:\n",
    "            print(f\"{element.name.upper()}: {text}\")\n",
    "            seen_texts.add(text)\n",
    "else:\n",
    "    print(\"Main content not found.\")"
   ]
  },
  {
   "cell_type": "markdown",
   "metadata": {},
   "source": [
    "# Using code"
   ]
  },
  {
   "cell_type": "code",
   "execution_count": 22,
   "metadata": {},
   "outputs": [
    {
     "name": "stdout",
     "output_type": "stream",
     "text": [
      "Scraping 1 urls\n",
      "Scraping https://www.gov.uk/\n",
      "Scraping 2 urls\n",
      "Scraping https://www.gov.uk/help/cookies\n",
      "Scraping 3 urls\n",
      "Scraping https://www.gov.uk/#content\n",
      "Scraping 4 urls\n",
      "Scraping 5 urls\n",
      "Scraping https://www.gov.uk/browse\n",
      "Scraping 6 urls\n",
      "Scraping https://www.gov.uk/search\n",
      "Scraping 7 urls\n",
      "Scraping https://www.gov.uk/browse/benefits\n",
      "Scraping 8 urls\n",
      "Scraping https://www.gov.uk/browse/births-deaths-marriages\n",
      "Scraping 9 urls\n",
      "Scraping https://www.gov.uk/browse/business\n",
      "Scraping 10 urls\n"
     ]
    },
    {
     "ename": "FileNotFoundError",
     "evalue": "[Errno 2] No such file or directory: 'data/browse/tax.txt'",
     "output_type": "error",
     "traceback": [
      "\u001b[0;31m---------------------------------------------------------------------------\u001b[0m",
      "\u001b[0;31mFileNotFoundError\u001b[0m                         Traceback (most recent call last)",
      "Cell \u001b[0;32mIn[22], line 1\u001b[0m\n\u001b[0;32m----> 1\u001b[0m \u001b[38;5;28;01mimport\u001b[39;00m \u001b[38;5;21;01msrc\u001b[39;00m\u001b[38;5;21;01m.\u001b[39;00m\u001b[38;5;21;01mmain\u001b[39;00m\n\u001b[1;32m      3\u001b[0m src\u001b[38;5;241m.\u001b[39mmain\u001b[38;5;241m.\u001b[39mmain()\n",
      "File \u001b[0;32m~/Programming/sheep-ai/packages/url-scraper/src/main.py:13\u001b[0m\n\u001b[1;32m     10\u001b[0m \u001b[38;5;28;01mfor\u001b[39;00m url, text \u001b[38;5;129;01min\u001b[39;00m filtered_url_text_pairs:\n\u001b[1;32m     11\u001b[0m     full_text \u001b[38;5;241m=\u001b[39m scrape_details(url)\n\u001b[0;32m---> 13\u001b[0m     \u001b[38;5;28;01mwith\u001b[39;00m \u001b[38;5;28;43mopen\u001b[39;49m\u001b[43m(\u001b[49m\u001b[38;5;124;43mf\u001b[39;49m\u001b[38;5;124;43m\"\u001b[39;49m\u001b[38;5;124;43mdata/\u001b[39;49m\u001b[38;5;132;43;01m{\u001b[39;49;00m\u001b[43murl\u001b[49m\u001b[38;5;241;43m.\u001b[39;49m\u001b[43mreplace\u001b[49m\u001b[43m(\u001b[49m\u001b[43mbase_url\u001b[49m\u001b[43m,\u001b[49m\u001b[38;5;250;43m \u001b[39;49m\u001b[38;5;124;43m'\u001b[39;49m\u001b[38;5;124;43m'\u001b[39;49m\u001b[43m)\u001b[49m\u001b[38;5;132;43;01m}\u001b[39;49;00m\u001b[38;5;124;43m.txt\u001b[39;49m\u001b[38;5;124;43m\"\u001b[39;49m\u001b[43m,\u001b[49m\u001b[43m \u001b[49m\u001b[38;5;124;43m\"\u001b[39;49m\u001b[38;5;124;43mw\u001b[39;49m\u001b[38;5;124;43m\"\u001b[39;49m\u001b[43m,\u001b[49m\u001b[43m \u001b[49m\u001b[43mencoding\u001b[49m\u001b[38;5;241;43m=\u001b[39;49m\u001b[38;5;124;43m\"\u001b[39;49m\u001b[38;5;124;43mutf-8\u001b[39;49m\u001b[38;5;124;43m\"\u001b[39;49m\u001b[43m)\u001b[49m \u001b[38;5;28;01mas\u001b[39;00m file:\n\u001b[1;32m     14\u001b[0m         file\u001b[38;5;241m.\u001b[39mwrite(full_text)\n",
      "\u001b[0;31mFileNotFoundError\u001b[0m: [Errno 2] No such file or directory: 'data/browse/tax.txt'"
     ]
    }
   ],
   "source": [
    "import src.main\n",
    "\n",
    "src.main.main()\n"
   ]
  }
 ],
 "metadata": {
  "kernelspec": {
   "display_name": "venv",
   "language": "python",
   "name": "python3"
  },
  "language_info": {
   "codemirror_mode": {
    "name": "ipython",
    "version": 3
   },
   "file_extension": ".py",
   "mimetype": "text/x-python",
   "name": "python",
   "nbconvert_exporter": "python",
   "pygments_lexer": "ipython3",
   "version": "3.13.0"
  }
 },
 "nbformat": 4,
 "nbformat_minor": 2
}
